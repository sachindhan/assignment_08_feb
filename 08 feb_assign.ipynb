{
 "cells": [
  {
   "cell_type": "raw",
   "id": "121130f0-bacd-4b21-b500-5370084f5b3a",
   "metadata": {},
   "source": [
    "Ans= 1 \n",
    "\n",
    "\n",
    "Abstraction is the process of hiding the internal details of an application from the outer world. Abstraction is used to describe things in simple terms. \n",
    "It’s used to create a boundary between the application and the client programs.\n",
    "\n",
    "example :\n",
    "        Baking a cake. If you are following a recipe to bake a cake, you are using abstraction. In this example, you're following only the necessary steps to prepare and bake the batter.\n",
    "        \n",
    "\n",
    "    "
   ]
  },
  {
   "cell_type": "raw",
   "id": "7149edb3-95f1-4b37-bdb7-e85b3831a310",
   "metadata": {},
   "source": [
    "Q2. Differentiate between Abstraction and Encapsulation. Explain with an example.?\n",
    "\n",
    "Ans 2 . Abstraction is a way of representing some specific data. \n",
    "        Encapsulation is a way of hiding the complexity of something and exposing only the         parts you wish to expose. \n",
    "        For example, if you have a class that has one or more private fields that you use         to store the data, then you are in encapsulation.\n",
    "\n",
    "\n",
    "\n"
   ]
  },
  {
   "cell_type": "raw",
   "id": "65a1a7ad-ec7f-4d91-ab4d-4dfbaf0b403b",
   "metadata": {},
   "source": [
    "Q3. What is abc module in python? Why is it used?\n",
    " Ans 3 . \n",
    "In Python, abstract base classes provide a blueprint for concrete classes. They don't contain implementation. Instead, they provide an interface and make sure that derived concrete classes are properly implemented. Abstract base classes cannot be instantiated.\n",
    "\n"
   ]
  },
  {
   "cell_type": "raw",
   "id": "63e60a04-fddd-4fcc-b936-18d29dd49503",
   "metadata": {},
   "source": [
    "Q4. How can we achieve data abstraction?\n",
    "ans 4 ) Data abstraction is a method where essential elements are displayed to the user and trivial elements are kept hidden.\n",
    "   by using the abstract keyword for classes and interfaces\n"
   ]
  },
  {
   "cell_type": "raw",
   "id": "3e55ddfd-8e97-480d-a831-9ab7f5a98adb",
   "metadata": {},
   "source": [
    "Q5. Can we create an instance of an abstract class? Explain your answer\n",
    "\n",
    "No, we can't create an object of an abstract class. But we can create a reference variable of an abstract class. The reference variable is used to refer to the objects of derived classes"
   ]
  }
 ],
 "metadata": {
  "kernelspec": {
   "display_name": "Python 3 (ipykernel)",
   "language": "python",
   "name": "python3"
  },
  "language_info": {
   "codemirror_mode": {
    "name": "ipython",
    "version": 3
   },
   "file_extension": ".py",
   "mimetype": "text/x-python",
   "name": "python",
   "nbconvert_exporter": "python",
   "pygments_lexer": "ipython3",
   "version": "3.10.8"
  }
 },
 "nbformat": 4,
 "nbformat_minor": 5
}
